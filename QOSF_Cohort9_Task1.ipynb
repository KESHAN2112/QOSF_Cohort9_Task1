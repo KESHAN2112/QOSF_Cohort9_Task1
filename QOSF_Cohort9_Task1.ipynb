{
 "cells": [
  {
   "cell_type": "code",
   "execution_count": 32,
   "id": "fb1af108-e9f2-4641-8a69-215b334c3b13",
   "metadata": {},
   "outputs": [],
   "source": [
    "from qiskit_aer import AerSimulator\n",
    "from qiskit import QuantumCircuit, transpile, assemble\n",
    "from qiskit.circuit.library import MCMT, CZGate, GroverOperator"
   ]
  },
  {
   "cell_type": "code",
   "execution_count": 33,
   "id": "225281da-c8b1-4046-87b9-6ad9e9f2b350",
   "metadata": {},
   "outputs": [],
   "source": [
    "def solution_encoding(circuit, num, bits):\n",
    "    for i in range(bits):\n",
    "        if (num >> i) & 1 == 0:\n",
    "            circuit.x(i)\n",
    "\n",
    "    circuit.append(MCMT(CZGate(), bits-1, 1), range(bits))\n",
    "\n",
    "    for i in range(bits):\n",
    "        if (num >> i) & 1 == 0:\n",
    "            circuit.x(i)\n",
    "\n",
    "def create_oracle(list_n, k, bits=5):\n",
    "    oracle = QuantumCircuit(bits)\n",
    "    oracle.h(range(bits))\n",
    "\n",
    "    for i, n in enumerate(list_n):\n",
    "        if n < k:\n",
    "            encode_solution(oracle, i, bits)\n",
    "\n",
    "    return oracle\n",
    "\n",
    "def grover_func(oracle, bits=5):\n",
    "    grover = GroverOperator(oracle)\n",
    "    grover.measure_all()\n",
    "    return grover\n",
    "\n",
    "def run_circuit(circuit):\n",
    "    simulator = AerSimulator()\n",
    "    transpiled_circuit = transpile(circuit, simulator)\n",
    "    result = simulator.run(transpiled_circuit, shots=1000).result()\n",
    "    counts = result.get_counts()\n",
    "    return counts"
   ]
  },
  {
   "cell_type": "code",
   "execution_count": 34,
   "id": "2f06917f-83bf-45aa-b155-b2a60fea90fa",
   "metadata": {},
   "outputs": [],
   "source": [
    "def less_than_k(k, list_n, n_qubits):\n",
    "  oracle = create_oracle(list_n, k, n_qubits)\n",
    "  circuit = grover_func(oracle)\n",
    "  result = run_circuit(circuit).int_outcomes()\n",
    "  solution = [list_n[x] for x in result if result[x] > 100]\n",
    "  if len(solution) != 0:\n",
    "      return solution\n",
    "  else:\n",
    "      return \"No elements less than k found\""
   ]
  },
  {
   "cell_type": "code",
   "execution_count": 35,
   "id": "f7317328-d149-4369-93ce-d283dac2e956",
   "metadata": {},
   "outputs": [
    {
     "name": "stdout",
     "output_type": "stream",
     "text": [
      "[9, 6, 1, 4]\n"
     ]
    }
   ],
   "source": [
    "list_n = [4,9,11,14,1,13,6,15]\n",
    "k = 10\n",
    "max_val = max(max(list_n), k)\n",
    "n_qubits = max_val.bit_length()\n",
    "\n",
    "print(less_than_k(k, list_n, n_qubits))"
   ]
  },
  {
   "cell_type": "code",
   "execution_count": 36,
   "id": "6e19eb83-99ed-4e87-89ac-a035d57c5e6f",
   "metadata": {},
   "outputs": [
    {
     "name": "stdout",
     "output_type": "stream",
     "text": [
      "No elements less than k found\n"
     ]
    }
   ],
   "source": [
    "list_n = [4,9,11,14,4,13,6,15]\n",
    "k = 3\n",
    "max_val = max(max(list_n), k)\n",
    "n_qubits = max_val.bit_length()\n",
    "\n",
    "print(less_than_k(k, list_n, n_qubits))"
   ]
  }
 ],
 "metadata": {
  "kernelspec": {
   "display_name": "Python 3 (ipykernel)",
   "language": "python",
   "name": "python3"
  },
  "language_info": {
   "codemirror_mode": {
    "name": "ipython",
    "version": 3
   },
   "file_extension": ".py",
   "mimetype": "text/x-python",
   "name": "python",
   "nbconvert_exporter": "python",
   "pygments_lexer": "ipython3",
   "version": "3.10.0"
  }
 },
 "nbformat": 4,
 "nbformat_minor": 5
}
